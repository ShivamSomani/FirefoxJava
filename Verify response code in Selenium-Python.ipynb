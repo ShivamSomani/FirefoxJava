{
 "cells": [
  {
   "cell_type": "code",
   "execution_count": 6,
   "metadata": {},
   "outputs": [
    {
     "name": "stdout",
     "output_type": "stream",
     "text": [
      "200\n"
     ]
    }
   ],
   "source": [
    "from urllib.request import urlopen\n",
    "\n",
    "response = urlopen(\"http://www.google.com\")\n",
    "html = response.getcode()\n",
    "print(html)"
   ]
  },
  {
   "cell_type": "code",
   "execution_count": 7,
   "metadata": {},
   "outputs": [
    {
     "name": "stdout",
     "output_type": "stream",
     "text": [
      "200\n"
     ]
    }
   ],
   "source": [
    "from selenium import webdriver\n",
    "from urllib.request import urlopen\n",
    "\n",
    "class RunFFTest():\n",
    "    def test(self):\n",
    "\n",
    "        driver = webdriver.Firefox(\n",
    "            executable_path=\"/Users/shivam.somani/Documents/selenium_dependencies/geckodriver\")\n",
    "        url = 'http://www.google.com'\n",
    "        driver.get(url)\n",
    "        responseCode = urlopen(url).getcode()\n",
    "        print(responseCode)\n",
    "        driver.quit()\n",
    "\n",
    "ff = RunFFTest()\n",
    "ff.test()\n",
    "\n",
    "\n",
    "# Sample code for getting response code\n",
    "\n",
    "# from urllib.request import urlopen\n",
    "# \n",
    "# response = urlopen(\"http://www.google.com\")\n",
    "# html = response.getcode()\n",
    "# print(html)  #200"
   ]
  },
  {
   "cell_type": "code",
   "execution_count": null,
   "metadata": {},
   "outputs": [],
   "source": []
  }
 ],
 "metadata": {
  "kernelspec": {
   "display_name": "Python 3",
   "language": "python",
   "name": "python3"
  },
  "language_info": {
   "codemirror_mode": {
    "name": "ipython",
    "version": 3
   },
   "file_extension": ".py",
   "mimetype": "text/x-python",
   "name": "python",
   "nbconvert_exporter": "python",
   "pygments_lexer": "ipython3",
   "version": "3.7.1"
  }
 },
 "nbformat": 4,
 "nbformat_minor": 2
}
